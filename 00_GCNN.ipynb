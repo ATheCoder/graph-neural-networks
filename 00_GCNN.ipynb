{
 "cells": [
  {
   "cell_type": "markdown",
   "metadata": {},
   "source": [
    "Here I am going to make a simple Graph Neural Network."
   ]
  },
  {
   "cell_type": "code",
   "execution_count": 2,
   "metadata": {},
   "outputs": [
    {
     "name": "stdout",
     "output_type": "stream",
     "text": [
      "Looking in indexes: https://pypi.org/simple, https://pypi.ngc.nvidia.com\n",
      "Looking in links: https://data.dgl.ai/wheels/repo.html\n",
      "Collecting dgl-cu116\n",
      "  Downloading https://data.dgl.ai/wheels/dgl_cu116-0.8.2.post1-cp38-cp38-manylinux1_x86_64.whl (227.0 MB)\n",
      "\u001b[K     |████████████████████████████████| 227.0 MB 3.0 MB/s eta 0:00:01     |██████████▎                     | 73.3 MB 44.7 MB/s eta 0:00:04     |██████████▌                     | 74.7 MB 44.7 MB/s eta 0:00:04███                   | 91.6 MB 1.8 MB/s eta 0:01:17     |████████████████████████▍       | 173.0 MB 9.5 MB/s eta 0:00:06\n",
      "\u001b[?25hCollecting dglgo\n",
      "  Downloading dglgo-0.0.1-py3-none-any.whl (77 kB)\n",
      "\u001b[K     |████████████████████████████████| 77 kB 15.6 MB/s eta 0:00:01\n",
      "\u001b[?25hRequirement already satisfied: networkx>=2.1 in /opt/conda/lib/python3.8/site-packages (from dgl-cu116) (2.6.3)\n",
      "Requirement already satisfied: tqdm in /opt/conda/lib/python3.8/site-packages (from dgl-cu116) (4.62.3)\n",
      "Requirement already satisfied: scipy>=1.1.0 in /opt/conda/lib/python3.8/site-packages (from dgl-cu116) (1.6.3)\n",
      "Requirement already satisfied: numpy>=1.14.0 in /opt/conda/lib/python3.8/site-packages (from dgl-cu116) (1.22.2)\n",
      "Requirement already satisfied: requests>=2.19.0 in /opt/conda/lib/python3.8/site-packages (from dgl-cu116) (2.26.0)\n",
      "Requirement already satisfied: psutil>=5.8.0 in /opt/conda/lib/python3.8/site-packages (from dgl-cu116) (5.9.0)\n",
      "Collecting autopep8>=1.6.0\n",
      "  Downloading autopep8-1.6.0-py2.py3-none-any.whl (45 kB)\n",
      "\u001b[K     |████████████████████████████████| 45 kB 53.3 MB/s eta 0:00:01\n",
      "\u001b[?25hCollecting pydantic>=1.9.0\n",
      "  Downloading pydantic-1.9.1-cp38-cp38-manylinux_2_17_x86_64.manylinux2014_x86_64.whl (12.7 MB)\n",
      "\u001b[K     |████████████████████████████████| 12.7 MB 60.1 MB/s eta 0:00:01\n",
      "\u001b[?25hCollecting numpydoc>=1.1.0\n",
      "  Downloading numpydoc-1.4.0-py3-none-any.whl (51 kB)\n",
      "\u001b[K     |████████████████████████████████| 51 kB 28.1 MB/s eta 0:00:01\n",
      "\u001b[?25hRequirement already satisfied: PyYAML>=5.1 in /opt/conda/lib/python3.8/site-packages (from dglgo) (5.4.1)\n",
      "Collecting ruamel.yaml>=0.17.20\n",
      "  Downloading ruamel.yaml-0.17.21-py3-none-any.whl (109 kB)\n",
      "\u001b[K     |████████████████████████████████| 109 kB 59.5 MB/s eta 0:00:01\n",
      "\u001b[?25hCollecting isort>=5.10.1\n",
      "  Downloading isort-5.10.1-py3-none-any.whl (103 kB)\n",
      "\u001b[K     |████████████████████████████████| 103 kB 92.5 MB/s eta 0:00:01\n",
      "\u001b[?25hRequirement already satisfied: typer>=0.4.0 in /opt/conda/lib/python3.8/site-packages (from dglgo) (0.4.0)\n",
      "Collecting pycodestyle>=2.8.0\n",
      "  Downloading pycodestyle-2.8.0-py2.py3-none-any.whl (42 kB)\n",
      "\u001b[K     |████████████████████████████████| 42 kB 31.4 MB/s eta 0:00:01\n",
      "\u001b[?25hRequirement already satisfied: toml in /opt/conda/lib/python3.8/site-packages (from autopep8>=1.6.0->dglgo) (0.10.2)\n",
      "Requirement already satisfied: Jinja2>=2.10 in /opt/conda/lib/python3.8/site-packages (from numpydoc>=1.1.0->dglgo) (3.0.3)\n",
      "Requirement already satisfied: sphinx>=3.0 in /opt/conda/lib/python3.8/site-packages (from numpydoc>=1.1.0->dglgo) (4.4.0)\n",
      "Requirement already satisfied: MarkupSafe>=2.0 in /opt/conda/lib/python3.8/site-packages (from Jinja2>=2.10->numpydoc>=1.1.0->dglgo) (2.0.1)\n",
      "Requirement already satisfied: typing-extensions>=3.7.4.3 in /opt/conda/lib/python3.8/site-packages (from pydantic>=1.9.0->dglgo) (4.0.1)\n",
      "Requirement already satisfied: charset-normalizer~=2.0.0 in /opt/conda/lib/python3.8/site-packages (from requests>=2.19.0->dgl-cu116) (2.0.9)\n",
      "Requirement already satisfied: idna<4,>=2.5 in /opt/conda/lib/python3.8/site-packages (from requests>=2.19.0->dgl-cu116) (3.1)\n",
      "Requirement already satisfied: urllib3<1.27,>=1.21.1 in /opt/conda/lib/python3.8/site-packages (from requests>=2.19.0->dgl-cu116) (1.26.7)\n",
      "Requirement already satisfied: certifi>=2017.4.17 in /opt/conda/lib/python3.8/site-packages (from requests>=2.19.0->dgl-cu116) (2021.10.8)\n",
      "Collecting ruamel.yaml.clib>=0.2.6\n",
      "  Downloading ruamel.yaml.clib-0.2.6-cp38-cp38-manylinux1_x86_64.whl (570 kB)\n",
      "\u001b[K     |████████████████████████████████| 570 kB 74.1 MB/s eta 0:00:01\n",
      "\u001b[?25hRequirement already satisfied: sphinxcontrib-jsmath in /opt/conda/lib/python3.8/site-packages (from sphinx>=3.0->numpydoc>=1.1.0->dglgo) (1.0.1)\n",
      "Requirement already satisfied: docutils<0.18,>=0.14 in /opt/conda/lib/python3.8/site-packages (from sphinx>=3.0->numpydoc>=1.1.0->dglgo) (0.17.1)\n",
      "Requirement already satisfied: babel>=1.3 in /opt/conda/lib/python3.8/site-packages (from sphinx>=3.0->numpydoc>=1.1.0->dglgo) (2.9.1)\n",
      "Requirement already satisfied: sphinxcontrib-htmlhelp>=2.0.0 in /opt/conda/lib/python3.8/site-packages (from sphinx>=3.0->numpydoc>=1.1.0->dglgo) (2.0.0)\n",
      "Requirement already satisfied: snowballstemmer>=1.1 in /opt/conda/lib/python3.8/site-packages (from sphinx>=3.0->numpydoc>=1.1.0->dglgo) (2.2.0)\n",
      "Requirement already satisfied: alabaster<0.8,>=0.7 in /opt/conda/lib/python3.8/site-packages (from sphinx>=3.0->numpydoc>=1.1.0->dglgo) (0.7.12)\n",
      "Requirement already satisfied: sphinxcontrib-serializinghtml>=1.1.5 in /opt/conda/lib/python3.8/site-packages (from sphinx>=3.0->numpydoc>=1.1.0->dglgo) (1.1.5)\n",
      "Requirement already satisfied: importlib-metadata>=4.4 in /opt/conda/lib/python3.8/site-packages (from sphinx>=3.0->numpydoc>=1.1.0->dglgo) (4.11.1)\n",
      "Requirement already satisfied: sphinxcontrib-devhelp in /opt/conda/lib/python3.8/site-packages (from sphinx>=3.0->numpydoc>=1.1.0->dglgo) (1.0.2)\n",
      "Requirement already satisfied: packaging in /opt/conda/lib/python3.8/site-packages (from sphinx>=3.0->numpydoc>=1.1.0->dglgo) (21.3)\n",
      "Requirement already satisfied: imagesize in /opt/conda/lib/python3.8/site-packages (from sphinx>=3.0->numpydoc>=1.1.0->dglgo) (1.3.0)\n",
      "Requirement already satisfied: sphinxcontrib-applehelp in /opt/conda/lib/python3.8/site-packages (from sphinx>=3.0->numpydoc>=1.1.0->dglgo) (1.0.2)\n",
      "Requirement already satisfied: Pygments>=2.0 in /opt/conda/lib/python3.8/site-packages (from sphinx>=3.0->numpydoc>=1.1.0->dglgo) (2.11.2)\n",
      "Requirement already satisfied: sphinxcontrib-qthelp in /opt/conda/lib/python3.8/site-packages (from sphinx>=3.0->numpydoc>=1.1.0->dglgo) (1.0.3)\n",
      "Requirement already satisfied: pytz>=2015.7 in /opt/conda/lib/python3.8/site-packages (from babel>=1.3->sphinx>=3.0->numpydoc>=1.1.0->dglgo) (2021.3)\n",
      "Requirement already satisfied: zipp>=0.5 in /opt/conda/lib/python3.8/site-packages (from importlib-metadata>=4.4->sphinx>=3.0->numpydoc>=1.1.0->dglgo) (3.7.0)\n",
      "Requirement already satisfied: click<9.0.0,>=7.1.1 in /opt/conda/lib/python3.8/site-packages (from typer>=0.4.0->dglgo) (8.0.3)\n",
      "Requirement already satisfied: pyparsing!=3.0.5,>=2.0.2 in /opt/conda/lib/python3.8/site-packages (from packaging->sphinx>=3.0->numpydoc>=1.1.0->dglgo) (3.0.7)\n",
      "Installing collected packages: ruamel.yaml.clib, pycodestyle, ruamel.yaml, pydantic, numpydoc, isort, autopep8, dglgo, dgl-cu116\n",
      "  Attempting uninstall: pycodestyle\n",
      "    Found existing installation: pycodestyle 2.5.0\n",
      "    Uninstalling pycodestyle-2.5.0:\n",
      "      Successfully uninstalled pycodestyle-2.5.0\n",
      "  Attempting uninstall: pydantic\n",
      "    Found existing installation: pydantic 1.8.2\n",
      "    Uninstalling pydantic-1.8.2:\n",
      "      Successfully uninstalled pydantic-1.8.2\n",
      "\u001b[31mERROR: pip's dependency resolver does not currently take into account all the packages that are installed. This behaviour is the source of the following dependency conflicts.\n",
      "thinc 8.0.13 requires pydantic!=1.8,!=1.8.1,<1.9.0,>=1.7.4, but you have pydantic 1.9.1 which is incompatible.\n",
      "spacy 3.2.1 requires pydantic!=1.8,!=1.8.1,<1.9.0,>=1.7.4, but you have pydantic 1.9.1 which is incompatible.\n",
      "flake8 3.7.9 requires pycodestyle<2.6.0,>=2.5.0, but you have pycodestyle 2.8.0 which is incompatible.\u001b[0m\n",
      "Successfully installed autopep8-1.6.0 dgl-cu116-0.8.2.post1 dglgo-0.0.1 isort-5.10.1 numpydoc-1.4.0 pycodestyle-2.8.0 pydantic-1.9.1 ruamel.yaml-0.17.21 ruamel.yaml.clib-0.2.6\n",
      "\u001b[33mWARNING: Running pip as the 'root' user can result in broken permissions and conflicting behaviour with the system package manager. It is recommended to use a virtual environment instead: https://pip.pypa.io/warnings/venv\u001b[0m\n",
      "Note: you may need to restart the kernel to use updated packages.\n"
     ]
    }
   ],
   "source": [
    "# Installing the Libraries:\n",
    "\n",
    "%pip install dgl-cu116 dglgo -f https://data.dgl.ai/wheels/repo.html"
   ]
  },
  {
   "cell_type": "code",
   "execution_count": 4,
   "metadata": {},
   "outputs": [
    {
     "name": "stdout",
     "output_type": "stream",
     "text": [
      "  NumNodes: 2708\n",
      "  NumEdges: 10556\n",
      "  NumFeats: 1433\n",
      "  NumClasses: 7\n",
      "  NumTrainingSamples: 140\n",
      "  NumValidationSamples: 500\n",
      "  NumTestSamples: 1000\n",
      "Done loading data from cached files.\n",
      "Number of Categories: 7\n",
      "Number of Graphs: 1\n"
     ]
    }
   ],
   "source": [
    "import dgl\n",
    "import dgl.data\n",
    "\n",
    "\n",
    "dataset = dgl.data.CoraGraphDataset()\n",
    "\n",
    "print(f'Number of Categories: {dataset.num_classes}')\n",
    "\n",
    "print(f'Number of Graphs: {len(dataset)}')\n"
   ]
  },
  {
   "cell_type": "code",
   "execution_count": 32,
   "metadata": {},
   "outputs": [
    {
     "name": "stdout",
     "output_type": "stream",
     "text": [
      "Node features: dict_keys(['feat', 'label', 'test_mask', 'val_mask', 'train_mask'])\n",
      "Edge features: dict_keys(['__orig__'])\n"
     ]
    }
   ],
   "source": [
    "# If we had a molecular dataset there would be multiple graphs here!\n",
    "g = dataset[0] # get the graph from the dataset.\n",
    "\n",
    "# Features for the nodes:\n",
    "print(f\"Node features: {g.ndata.keys()}\")\n",
    "print(f\"Edge features: {g.edata.keys()}\")"
   ]
  },
  {
   "cell_type": "code",
   "execution_count": 18,
   "metadata": {},
   "outputs": [
    {
     "data": {
      "image/png": "[encoded data removed]",
      "text/plain": [
       "<Figure size 1080x504 with 1 Axes>"
      ]
     },
     "metadata": {},
     "output_type": "display_data"
    }
   ],
   "source": [
    "# Lets visualize the Graph!\n",
    "import matplotlib.pyplot as plt\n",
    "import networkx as nx\n",
    "\n",
    "# Networkx is a graph library for Python.\n",
    "G = dgl.to_networkx(g)\n",
    "\n",
    "plt.figure(figsize=(15, 7))\n",
    "\n",
    "options = {\n",
    "    \"node_color\": 'black',\n",
    "    'node_size': 20,\n",
    "    'width': 1\n",
    "}\n",
    "\n",
    "nx.draw(G, **options)\n"
   ]
  },
  {
   "cell_type": "code",
   "execution_count": 36,
   "metadata": {},
   "outputs": [
    {
     "data": {
      "text/plain": [
       "2708"
      ]
     },
     "execution_count": 36,
     "metadata": {},
     "output_type": "execute_result"
    }
   ],
   "source": [
    "g.num_nodes()"
   ]
  },
  {
   "cell_type": "code",
   "execution_count": 38,
   "metadata": {},
   "outputs": [
    {
     "name": "stdout",
     "output_type": "stream",
     "text": [
      "Shape of features: torch.Size([2708, 1433])\n",
      "Shape of node labels: torch.Size([2708])\n",
      "Node Count: 2708\n"
     ]
    }
   ],
   "source": [
    "shapeOfNodeFeatures = g.ndata['feat'].shape\n",
    "print(f'Shape of features: {shapeOfNodeFeatures}')\n",
    "\n",
    "shapeOfNodeLabels = g.ndata['label'].shape\n",
    "print(f'Shape of node labels: {shapeOfNodeLabels}')\n",
    "\n",
    "print(f'Node Count: {g.num_nodes()}')\n",
    "\n",
    "# there are 2708 nodes and each node has 1433 features."
   ]
  },
  {
   "cell_type": "code",
   "execution_count": 29,
   "metadata": {},
   "outputs": [
    {
     "data": {
      "text/plain": [
       "26"
      ]
     },
     "execution_count": 29,
     "metadata": {},
     "output_type": "execute_result"
    }
   ],
   "source": [
    "len(g.nodes) # There are 10 nodes.\n",
    "len(g.edges) # There are 26 edges."
   ]
  },
  {
   "cell_type": "code",
   "execution_count": null,
   "metadata": {},
   "outputs": [],
   "source": []
  },
  {
   "cell_type": "code",
   "execution_count": 26,
   "metadata": {},
   "outputs": [
    {
     "data": {
      "text/plain": [
       "matrix([[0, 0, 1, 1, 1, 1, 1, 0, 1, 0],\n",
       "        [0, 0, 1, 0, 0, 0, 0, 1, 0, 1],\n",
       "        [1, 1, 0, 1, 1, 0, 1, 1, 1, 0],\n",
       "        [1, 0, 1, 0, 0, 1, 0, 1, 1, 1],\n",
       "        [1, 0, 1, 0, 0, 0, 1, 1, 0, 1],\n",
       "        [1, 0, 0, 1, 0, 0, 0, 1, 1, 0],\n",
       "        [1, 0, 1, 0, 1, 0, 0, 1, 0, 1],\n",
       "        [0, 1, 1, 1, 1, 1, 1, 0, 1, 0],\n",
       "        [1, 0, 1, 1, 0, 1, 0, 1, 0, 0],\n",
       "        [0, 1, 0, 1, 1, 0, 1, 0, 0, 0]])"
      ]
     },
     "execution_count": 26,
     "metadata": {},
     "output_type": "execute_result"
    }
   ],
   "source": [
    "# Lets generate a random graph:\n",
    "\n",
    "from networkx.generators.random_graphs import erdos_renyi_graph\n",
    "\n",
    "n = 10\n",
    "\n",
    "p = 0.5\n",
    "\n",
    "g = erdos_renyi_graph(n, p)\n",
    "\n",
    "nx.adjacency_matrix(g).todense()"
   ]
  },
  {
   "cell_type": "markdown",
   "metadata": {},
   "source": [
    "### GraphConv\n",
    "\n",
    "There are two things in a graph:\n",
    "\n",
    "1. The graph structure itself, which is usually shown using an adjacency matrix $A$\n",
    "\n",
    "2. The features of every node which shown by $N \\times D$ matrix where $N$ is equal to the number of nodes and $D$ is equal to the number of features that each node has.\n",
    "\n",
    "$A_{N \\times N}$ -> Adjacency Matrix\n",
    "\n",
    "$X_{N \\times D}$ -> Feature Matrix\n",
    "\n",
    "So our neural network should take both $A$ and $X$ as the input.\n",
    "\n",
    "and then return a $N \\times F$ matrix that has $F$ features for each node.\n",
    "\n",
    "We can make a single layer neural network like so:\n",
    "\n",
    "$$O_{N \\times F} = f(X_{N \\times D}, A_{N \\times N})$$\n",
    "\n",
    "What is $f$?\n",
    "\n",
    "$$f(X, A) = \\sigma(A_{N \\times N}X_{N \\times D}W_{D \\times F})$$\n",
    "\n",
    "1. $W_{D \\times F}$ weights of the NN.\n",
    "2. $\\sigma$ is the *ReLU* function.\n",
    "\n",
    "There are two problems with this architecture:\n",
    "\n",
    "1. If we multiple the features by the adjacency matrix we will lose any data\n",
    "that is associated to the node itself because it will get multipled by 0.\n",
    "2. A is not normalized! Then if we multiple our graph by $A$ we will get a value is that might not be as good as we wanted it to be.\n",
    "\n",
    "\n",
    "\n",
    "What is a GraphConv?\n",
    "\n",
    "So for the \n",
    "\n",
    "We first calculate a Hidden state using the following formula:\n",
    "\n",
    "$$H^{(l + 1)} = f(H^{(l)}, A) $$\n"
   ]
  },
  {
   "cell_type": "code",
   "execution_count": 22,
   "metadata": {},
   "outputs": [],
   "source": [
    "# Graph Convolutional Neural Network:\n",
    "\n",
    "from dgl.nn import GraphConv\n",
    "import torch\n",
    "import torch.nn.functional as F\n",
    "\n",
    "class GCN(torch.nn.Module):\n",
    "    def __init__(self, in_feats, h_feats, num_classes):\n",
    "        super(GCN, self).__init__()\n",
    "\n",
    "        self.conv1 = GraphConv(in_feats, h_feats)\n",
    "        self.conv2 = GraphConv(h_feats, num_classes)\n",
    "\n",
    "    def forward(self, g, in_feats):\n",
    "        h = self.conv1(g, in_feats)\n",
    "        h = F.relu(h)\n",
    "        h = self.conv2(g, h)\n",
    "\n",
    "        return h\n",
    "\n",
    "model = GCN(g.ndata['feat'].shape[1], 16, dataset.num_classes)"
   ]
  },
  {
   "cell_type": "code",
   "execution_count": 41,
   "metadata": {},
   "outputs": [
    {
     "name": "stdout",
     "output_type": "stream",
     "text": [
      "Epoch 0 Done!\n",
      "Epoch 1 Done!\n",
      "Epoch 2 Done!\n",
      "Epoch 3 Done!\n",
      "Epoch 4 Done!\n",
      "Epoch 5 Done!\n",
      "Epoch 6 Done!\n",
      "Epoch 7 Done!\n",
      "Epoch 8 Done!\n",
      "Epoch 9 Done!\n",
      "Epoch 10 Done!\n",
      "Epoch 11 Done!\n",
      "Epoch 12 Done!\n",
      "Epoch 13 Done!\n",
      "Epoch 14 Done!\n",
      "Epoch 15 Done!\n",
      "Epoch 16 Done!\n",
      "Epoch 17 Done!\n",
      "Epoch 18 Done!\n",
      "Epoch 19 Done!\n",
      "Epoch 20 Done!\n",
      "Epoch 21 Done!\n",
      "Epoch 22 Done!\n",
      "Epoch 23 Done!\n",
      "Epoch 24 Done!\n",
      "Epoch 25 Done!\n",
      "Epoch 26 Done!\n",
      "Epoch 27 Done!\n",
      "Epoch 28 Done!\n",
      "Epoch 29 Done!\n",
      "Epoch 30 Done!\n",
      "Epoch 31 Done!\n",
      "Epoch 32 Done!\n",
      "Epoch 33 Done!\n",
      "Epoch 34 Done!\n",
      "Epoch 35 Done!\n",
      "Epoch 36 Done!\n",
      "Epoch 37 Done!\n",
      "Epoch 38 Done!\n",
      "Epoch 39 Done!\n",
      "Epoch 40 Done!\n",
      "Epoch 41 Done!\n",
      "Epoch 42 Done!\n",
      "Epoch 43 Done!\n",
      "Epoch 44 Done!\n",
      "Epoch 45 Done!\n",
      "Epoch 46 Done!\n",
      "Epoch 47 Done!\n",
      "Epoch 48 Done!\n",
      "Epoch 49 Done!\n",
      "Epoch 50 Done!\n",
      "Epoch 51 Done!\n",
      "Epoch 52 Done!\n",
      "Epoch 53 Done!\n",
      "Epoch 54 Done!\n",
      "Epoch 55 Done!\n",
      "Epoch 56 Done!\n",
      "Epoch 57 Done!\n",
      "Epoch 58 Done!\n",
      "Epoch 59 Done!\n",
      "Epoch 60 Done!\n",
      "Epoch 61 Done!\n",
      "Epoch 62 Done!\n",
      "Epoch 63 Done!\n",
      "Epoch 64 Done!\n",
      "Epoch 65 Done!\n",
      "Epoch 66 Done!\n",
      "Epoch 67 Done!\n",
      "Epoch 68 Done!\n",
      "Epoch 69 Done!\n",
      "Epoch 70 Done!\n",
      "Epoch 71 Done!\n",
      "Epoch 72 Done!\n",
      "Epoch 73 Done!\n",
      "Epoch 74 Done!\n",
      "Epoch 75 Done!\n",
      "Epoch 76 Done!\n",
      "Epoch 77 Done!\n",
      "Epoch 78 Done!\n",
      "Epoch 79 Done!\n",
      "Epoch 80 Done!\n",
      "Epoch 81 Done!\n",
      "Epoch 82 Done!\n",
      "Epoch 83 Done!\n",
      "Epoch 84 Done!\n",
      "Epoch 85 Done!\n",
      "Epoch 86 Done!\n",
      "Epoch 87 Done!\n",
      "Epoch 88 Done!\n",
      "Epoch 89 Done!\n",
      "Epoch 90 Done!\n",
      "Epoch 91 Done!\n",
      "Epoch 92 Done!\n",
      "Epoch 93 Done!\n",
      "Epoch 94 Done!\n",
      "Epoch 95 Done!\n",
      "Epoch 96 Done!\n",
      "Epoch 97 Done!\n",
      "Epoch 98 Done!\n",
      "Epoch 99 Done!\n"
     ]
    }
   ],
   "source": [
    "def train(g, model, epochs):\n",
    "    optimizer = torch.optim.Adam(model.parameters(), lr=0.01)\n",
    "\n",
    "    features = g.ndata['feat']\n",
    "    labels = g.ndata['label']\n",
    "\n",
    "    train_mask = g.ndata['train_mask']\n",
    "    val_mask = g.ndata['val_mask']\n",
    "    test_mask = g.ndata['test_mask']\n",
    "\n",
    "    for e in range(epochs):\n",
    "        logits = model(g, features)\n",
    "\n",
    "        loss = F.cross_entropy(logits[train_mask], labels[train_mask])\n",
    "\n",
    "        optimizer.zero_grad()\n",
    "\n",
    "        loss.backward()\n",
    "\n",
    "        optimizer.step()\n",
    "\n",
    "        print(f'Epoch {e} Done!')\n",
    "\n",
    "train(g, model, 100)\n"
   ]
  }
 ],
 "metadata": {
  "kernelspec": {
   "display_name": "Python 3 (ipykernel)",
   "language": "python",
   "name": "python3"
  },
  "language_info": {
   "codemirror_mode": {
    "name": "ipython",
    "version": 3
   },
   "file_extension": ".py",
   "mimetype": "text/x-python",
   "name": "python",
   "nbconvert_exporter": "python",
   "pygments_lexer": "ipython3",
   "version": "3.8.12"
  },
  "orig_nbformat": 4,
  "vscode": {
   "interpreter": {
    "hash": "25a19fbe0a9132dfb9279d48d161753c6352f8f9478c2e74383d340069b907c3"
   }
  }
 },
 "nbformat": 4,
 "nbformat_minor": 2
}
