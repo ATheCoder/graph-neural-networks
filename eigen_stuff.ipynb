{
 "cells": [
  {
   "cell_type": "markdown",
   "metadata": {},
   "source": [
    "Lets talk about eigenvalues and eigenvectors:\n",
    "\n",
    "An *eigen***vector** is defined as:\n",
    "\n",
    "$$A_{_{N \\times N}}\\overrightarrow{v} = \\lambda\\overrightarrow{v}$$\n",
    "\n",
    "Which means that $\\overrightarrow{v}$ is a vector that if $A$ as a linear transformation gets applied to it. It will only be scaled without moving.\n",
    "\n",
    "This means that the transformed vector of $\\overrightarrow{v}$ will be inside the span of $\\overrightarrow{v}$"
   ]
  },
  {
   "cell_type": "code",
   "execution_count": null,
   "metadata": {},
   "outputs": [],
   "source": []
  }
 ],
 "metadata": {
  "language_info": {
   "name": "python"
  },
  "orig_nbformat": 4
 },
 "nbformat": 4,
 "nbformat_minor": 2
}
