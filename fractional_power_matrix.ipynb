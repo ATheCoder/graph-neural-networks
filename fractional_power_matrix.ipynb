{
 "cells": [
  {
   "cell_type": "markdown",
   "metadata": {},
   "source": [
    "Seems like there is a theorem:\n",
    "\n",
    "$$ A^n = PD^nP^{-1}$$\n",
    "\n",
    "How is this proved? [MathExchange](https://math.stackexchange.com/questions/732511/fractional-power-of-matrix)\n",
    "\n"
   ]
  },
  {
   "cell_type": "markdown",
   "metadata": {},
   "source": [
    "#### Diagonalization\n",
    "\n",
    "We first need to calculate the eigenvectors and eigenvalues of the matrix.\n",
    "\n",
    "Then Matrix D is equal to the a diagonal matrix that has all the eigenvalues as the main diagonal.\n",
    "\n",
    "The matrix P is equal to a matrix with the eigenvectors as the columns.\n",
    "\n",
    "\n"
   ]
  },
  {
   "cell_type": "code",
   "execution_count": 27,
   "metadata": {},
   "outputs": [
    {
     "name": "stdout",
     "output_type": "stream",
     "text": [
      "[1. 2.]\n",
      "[[-0.70710678  0.62469505]\n",
      " [ 0.70710678 -0.78086881]]\n",
      "---\n",
      "[ 1.2493901  -1.56173762]\n",
      "[ 1.2493901  -1.56173762]\n",
      "---\n",
      "[[ 2.17157288  1.17157288]\n",
      " [-1.46446609 -0.46446609]]\n"
     ]
    }
   ],
   "source": [
    "import numpy as np\n",
    "\n",
    "m = np.array([[-3, -4], [5, 6]])\n",
    "\n",
    "values, eigenvector = np.linalg.eig(m)\n",
    "\n",
    "print(values)\n",
    "print(eigenvector)\n",
    "print('---')\n",
    "print(eigenvector[:, 1] * values[1])\n",
    "print(np.matmul(m, eigenvector[:, 1]))\n",
    "print('---')\n",
    "# print(np.diag(1 / values))\n",
    "q = np.matmul(eigenvector, np.diag(values ** (-1/2)))\n",
    "print(np.matmul(q, np.linalg.inv(eigenvector)))"
   ]
  },
  {
   "cell_type": "code",
   "execution_count": 28,
   "metadata": {},
   "outputs": [
    {
     "name": "stdout",
     "output_type": "stream",
     "text": [
      "[[ 2.17157288  1.17157288]\n",
      " [-1.46446609 -0.46446609]]\n"
     ]
    }
   ],
   "source": [
    "from scipy.linalg import fractional_matrix_power\n",
    "import numpy as np\n",
    "\n",
    "m = np.array([[-3, -4], [5, 6]])\n",
    "\n",
    "calculated_frac = fractional_matrix_power(m, -1/2)\n",
    "\n",
    "print(calculated_frac)\n",
    "\n",
    "\n"
   ]
  }
 ],
 "metadata": {
  "kernelspec": {
   "display_name": "Python 3 (ipykernel)",
   "language": "python",
   "name": "python3"
  },
  "language_info": {
   "codemirror_mode": {
    "name": "ipython",
    "version": 3
   },
   "file_extension": ".py",
   "mimetype": "text/x-python",
   "name": "python",
   "nbconvert_exporter": "python",
   "pygments_lexer": "ipython3",
   "version": "3.8.12"
  },
  "orig_nbformat": 4
 },
 "nbformat": 4,
 "nbformat_minor": 2
}
